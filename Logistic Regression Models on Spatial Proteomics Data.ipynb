{
 "cells": [
  {
   "cell_type": "markdown",
   "metadata": {},
   "source": [
    "# Logistig Regression Models on Spatial Proteomics Data\n",
    "\n",
    "## Introduction\n",
    "Apicomplexan parasites cause major human disease and food insecurity. They owe their considerable success to highly specialized cell compartments and structures. These adaptations drive their recognition, nondestructive penetration, and elaborate reengineering of the host’s cells to promote their growth, dissemination, and the countering of host defenses. The evolution of unique apicomplexan cellular compartments is concomitant with vast proteomic novelty. Consequently, half of apicomplexan proteins are unique and uncharacterized.\n",
    "\n",
    "## Background\n",
    "In 2020, [Barylyuk *et al*](https://www.cell.com/cell-host-microbe/fulltext/S1931-3128(20)30514-X) determined the steady-state subcellular location of thousands of proteins simultaneously within the globally prevalent apicomplexan parasite *Toxoplasma gondii*. Thus providing unprecedented comprehensive molecular definition of these unicellular eukaryotes and their specialized compartments.\n",
    "\n",
    "![TOXO_LOPIT](images/TOXO_LOPIT.png)"
   ]
  },
  {
   "cell_type": "markdown",
   "metadata": {},
   "source": [
    "The assignment of the subcellular location was performed combining the output of high-throughput mass spectrometry and machine-learning clustering. This method however, relies on proteins that can be detected using mass spectrometry. Therefore, despite that *Toxoplasma gondii* encodes 8200 proteins in its genome, only 3832 proteins could be detected using mass spectrometry, and 3823 could be assigned a subcellullar compartment."
   ]
  },
  {
   "cell_type": "markdown",
   "metadata": {},
   "source": [
    "## Genomic, proteomic, and composition features\n",
    "Considering the vast amount of information encoded in the genome sequence of *Toxoplasma gondii*, we think we could apply clustering and classification methods to infer the subcellular localization of such proteins using genomic, proteomic and composition features like %G+C, codon bias, presence of transmembrane helices, disordered regions, etc.\n",
    "\n",
    "## Genome and protein sequences\n",
    "All sequences employed in this notebook were downloaded from [ToxoDB](https://toxodb.org), we only kept proteins encoded in chromosome-level resolved sequences (n=8200). We then calculated %G+C and codon usage from the coding sequences; and physicochemical properties of the proteins using [EMBOSS](http://emboss.sourceforge.net/). Transmembrane helices were predicted using [tmhmm](http://www.cbs.dtu.dk/services/TMHMM/). Disordered regions and other conserved domains were predicted using [InterProScan](https://www.ebi.ac.uk/interpro/search/sequence/). All the predictions and experimental results were combined into a [tsv file](Toxoplasma_gondii_ME49.tsv) for further processing using pandas and scikit learn\n",
    "\n",
    "- [Genome sequence](Toxoplasma_gondii_ME49.fasta.gz)\n",
    "- [Gene sequences](Toxoplasma_gondii_ME49.ffn.gz)\n",
    "- [Protein sequences](Toxoplasma_gondii_ME49.faa.gz)\n",
    "- [Final dataset](Toxoplasma_gondii_ME49.tsv.gz)\n",
    "\n",
    "## Data structure\n",
    "\n",
    "|Column|Description|Column|Description|Column|Description|Column|Description|Column|Description|\n",
    "|------|-----------|------|-----------|------|-----------|------|-----------|------|-----------|\n",
    "|**accession**|Protein identifier|**product**|Protein product description|**markers**|Subcellular **known** location|**lopit**|Subcellular **predicted** location|**toxo_exclusive**|Proteins shared with other organisms or exclusive to *Toxoplasma gondii*|\n",
    "|**sequence**|Chromosome encoding the protein|**start**|Coding sequence start|**end**|Coding sequence end|**strand**|Coding sequence strand|||\n",
    "|**cds_length**|Coding sequence length|**cds_gc**|Coding sequence %G+C|||||||\n",
    "|**prot_weight**|Protein mass|**prot_length**|Protein length|**charge**|Protein charge|**iep**|Isoelectric point|||\n",
    "|**tiny**|Fraction of tiny aminoacids|**small**|Fraction of small aminoacids|**aliphatic**|Fraction of aliphatic aminoacids|**aromatic**|Fraction of aromatic aminoacids|||\n",
    "|**nonpolar**|Fraction of nonpolar aminoacids|**polar**|Fraction of polar aminoacids|**charged**|Fraction of charged aminoacids|**basic**|Fraction of basic aminoacids|**acid**|Fraction of acidic aminoacids|\n",
    "|**coils**|Number of coiled coil regions|**disordered**|Number of disordered regions|**tmh**|Number of transmembrane helices|||||\n",
    "|**Columns 28-89**|Codons used per protein|||||||||"
   ]
  },
  {
   "cell_type": "code",
   "execution_count": 1,
   "metadata": {
    "extensions": {
     "jupyter_dashboards": {
      "version": 1,
      "views": {
       "grid_default": {},
       "report_default": {}
      }
     }
    }
   },
   "outputs": [],
   "source": [
    "import pandas as pd\n",
    "import matplotlib.pyplot as plt\n",
    "import seaborn as sns\n",
    "from sklearn.linear_model import LogisticRegression\n",
    "from sklearn.metrics import classification_report\n",
    "df = pd.read_csv(\"Toxoplasma_gondii_ME49.tsv.gz\",sep=\"\\t\")\n",
    "df.set_index(\"accession\",drop=True,inplace=True)"
   ]
  },
  {
   "cell_type": "markdown",
   "metadata": {},
   "source": [
    "## Logistic model #1\n",
    "### Codon usage might be a good measure to detect genes with a shared evolutionary background\n",
    "All proteins are made up from 20 essential aminoacids, however such aminoacids might be encoded by different codons. Organisms whose DNA has a high %G+C use different sets of codons to optimize protein synthesis than organisms with low %G+C.\n",
    "\n",
    "In 2020, [Barylyuk *et al*](https://www.cell.com/cell-host-microbe/fulltext/S1931-3128(20)30514-X), classified the proteins of *Toxoplasma gondii* as exclusive to Toxoplasma (no orthologues detected) or shared (orthologues detected), thus, we could use such classifications to train a model based on the codon usage of the genes encoding the aforementioned proteins."
   ]
  },
  {
   "cell_type": "markdown",
   "metadata": {},
   "source": [
    "### Definitions: The genetic code"
   ]
  },
  {
   "cell_type": "code",
   "execution_count": 2,
   "metadata": {},
   "outputs": [],
   "source": [
    "genetic_code={\n",
    "    \"Ala\":[\"GCA\",\"GCC\",\"GCG\",\"GCT\"],\n",
    "    \"Cys\":[\"TGC\",\"TGT\"],\n",
    "    \"Asp\":[\"GAC\",\"GAT\"],\n",
    "    \"Glu\":[\"GAA\",\"GAG\"],\n",
    "    \"Phe\":[\"TTC\",\"TTT\"],\n",
    "    \"Gly\":[\"GGA\",\"GGC\",\"GGG\",\"GGT\"],\n",
    "    \"His\":[\"CAC\",\"CAT\"],\n",
    "    \"Ile\":[\"ATA\",\"ATC\",\"ATT\"],\n",
    "    \"Lys\":[\"AAA\",\"AAG\"],\n",
    "    \"Leu\":[\"CTA\",\"CTC\",\"CTG\",\"CTT\",\"TTA\",\"TTG\"],\n",
    "    \"Met\":[\"ATG\"],\n",
    "    \"Asn\":[\"AAC\",\"AAT\"],\n",
    "    \"Pro\":[\"CCA\",\"CCC\",\"CCG\",\"CCT\"],\n",
    "    \"Gln\":[\"CAA\",\"CAG\"],\n",
    "    \"Arg\":[\"AGA\",\"AGG\",\"CGA\",\"CGC\",\"CGG\",\"CGT\"],\n",
    "    \"Ser\":[\"AGC\",\"AGT\",\"TCA\",\"TCC\",\"TCG\",\"TCT\"],\n",
    "    \"Thr\":[\"ACA\",\"ACC\",\"ACG\",\"ACT\"],\n",
    "    \"Val\":[\"GTA\",\"GTC\",\"GTG\",\"GTT\"],\n",
    "    \"Trp\":[\"TGG\",\"TGA\"],\n",
    "    \"Tyr\":[\"TAC\",\"TAT\"]}"
   ]
  },
  {
   "cell_type": "code",
   "execution_count": 3,
   "metadata": {},
   "outputs": [],
   "source": [
    "!mkdir -p \"orthology\""
   ]
  },
  {
   "cell_type": "code",
   "execution_count": 4,
   "metadata": {},
   "outputs": [],
   "source": [
    "toxo_df = df.copy()\n",
    "toxo_df = toxo_df[toxo_df[\"toxo_exclusive\"]==True]\n",
    "fig, axes = plt.subplots(4,5,figsize=(25,20))\n",
    "title_str = \"Codon usage, exclusive genes\"\n",
    "fig.suptitle(title_str,size=\"xx-large\")\n",
    "counter_1 = 0\n",
    "counter_2 = 0\n",
    "for amino in genetic_code.keys():      \n",
    "    sns.violinplot(ax=axes[counter_1,counter_2],data=toxo_df[genetic_code[amino]],inner=None,cut=0)\n",
    "    axes[counter_1,counter_2].set_title(amino)\n",
    "    counter_2 += 1\n",
    "    if counter_2%5 == 0:\n",
    "        counter_2 = 0\n",
    "        counter_1 += 1\n",
    "file_name = \"orthology/exclusive.svg\"\n",
    "plt.savefig(file_name)\n",
    "#plt.show()\n",
    "plt.close()"
   ]
  },
  {
   "cell_type": "code",
   "execution_count": 5,
   "metadata": {},
   "outputs": [],
   "source": [
    "shared_df = df.copy()\n",
    "shared_df = shared_df[shared_df[\"toxo_exclusive\"]==False]\n",
    "fig, axes = plt.subplots(4,5,figsize=(25,20))\n",
    "title_str = \"Codon usage, shared genes\"\n",
    "fig.suptitle(title_str,size=\"xx-large\")\n",
    "counter_1 = 0\n",
    "counter_2 = 0\n",
    "for amino in genetic_code.keys():      \n",
    "    sns.violinplot(ax=axes[counter_1,counter_2],data=shared_df[genetic_code[amino]],inner=None,cut=0)\n",
    "    axes[counter_1,counter_2].set_title(amino)\n",
    "    counter_2 += 1\n",
    "    if counter_2%5 == 0:\n",
    "        counter_2 = 0\n",
    "        counter_1 += 1\n",
    "file_name = \"orthology/shared.svg\"\n",
    "plt.savefig(file_name)\n",
    "#plt.show()\n",
    "plt.close()"
   ]
  },
  {
   "cell_type": "markdown",
   "metadata": {},
   "source": [
    "## Finding #1\n",
    "### There are differences in codon usage among exclusive and shared genes\n",
    "|Shared genes                     |Exclusive genes                     |\n",
    "|---------------------------------|------------------------------------|\n",
    "|![shared](\"orthology/shared.svg\")|![shared](\"orthology/exclusive.svg\")|"
   ]
  },
  {
   "cell_type": "markdown",
   "metadata": {},
   "source": [
    "## Logistic model #1:\n",
    "- We selected only the aminoacids with different codon usage patterns (Cys, Glu, Phe, His, Lys, Asn, Gln and Tyr) as potential predictors\n",
    "- Our target variable is `toxo_exclusive`\n",
    "- The model seems to accurately predict whether a gene is shared or exclusive based on the codon usage\n",
    "\n",
    "However... the model was tested against the same dataset, a more stringent test could be performed using data from a different organism"
   ]
  },
  {
   "cell_type": "code",
   "execution_count": 6,
   "metadata": {},
   "outputs": [
    {
     "name": "stdout",
     "output_type": "stream",
     "text": [
      "              precision    recall  f1-score   support\n",
      "\n",
      "       False       0.93      0.99      0.96      7509\n",
      "        True       0.54      0.13      0.21       691\n",
      "\n",
      "    accuracy                           0.92      8200\n",
      "   macro avg       0.73      0.56      0.59      8200\n",
      "weighted avg       0.89      0.92      0.89      8200\n",
      "\n"
     ]
    }
   ],
   "source": [
    "aminoacids = genetic_code[\"Cys\"] + genetic_code[\"Glu\"] + genetic_code[\"Phe\"] + genetic_code[\"His\"] + genetic_code[\"Lys\"] + genetic_code[\"Asn\"] + genetic_code[\"Gln\"] + genetic_code[\"Tyr\"]\n",
    "codon_df = df.copy()\n",
    "training_df = codon_df.copy()\n",
    "training_df = training_df.sample(n=5700, random_state=1)\n",
    "X = training_df[aminoacids]\n",
    "y = training_df[\"toxo_exclusive\"]\n",
    "model = LogisticRegression(max_iter=1000)\n",
    "model.fit(X, y);\n",
    "y_true = codon_df[\"toxo_exclusive\"]\n",
    "X_test = codon_df[aminoacids]\n",
    "y_pred = model.predict(X_test)\n",
    "print(classification_report(y_true, y_pred))"
   ]
  },
  {
   "cell_type": "markdown",
   "metadata": {},
   "source": [
    "## Logistic model #2 & #3\n",
    "### Protein composition might be related to subcellular localization\n",
    "Subcellular compartments have specific physicochemical properties that allow only certain proteins to be targeted to such compartments, however there are no strict rules for this targeting process. By incorporating different metrics of protein composition, we might be able to predict subcellular location having two training sets:\n",
    "1. Proteins which location is known (`markers` column)\n",
    "2. Proteins which location is predicted using LOPIT (`lopit` column)"
   ]
  },
  {
   "cell_type": "code",
   "execution_count": 7,
   "metadata": {},
   "outputs": [],
   "source": [
    "aminoacids ={\n",
    "    \"tiny\"     :[\"A\",\"C\",\"G\",\"S\",\"T\"],\n",
    "    \"small\"    :[\"A\",\"C\",\"D\",\"G\",\"N\",\"P\",\"S\",\"T\",\"V\"],\n",
    "    \"aliphatic\":[\"A\",\"I\",\"L\",\"V\"],\n",
    "    \"aromatic\" :[\"F\",\"H\",\"W\",\"Y\"],\n",
    "    \"nonpolar\" :[\"A\",\"C\",\"F\",\"G\",\"I\",\"L\",\"M\",\"P\",\"V\",\"W\",\"Y\"],\n",
    "    \"polar\"    :[\"D\",\"E\",\"H\",\"K\",\"N\",\"Q\",\"R\",\"S\",\"T\"],\n",
    "    \"charged\"  :[\"D\",\"E\",\"H\",\"K\",\"R\"],\n",
    "    \"basic\"    :[\"H\",\"K\",\"R\"],\n",
    "    \"acid\"     :[\"D\",\"E\"]}"
   ]
  },
  {
   "cell_type": "code",
   "execution_count": 8,
   "metadata": {},
   "outputs": [],
   "source": [
    "!mkdir -p features_1"
   ]
  },
  {
   "cell_type": "markdown",
   "metadata": {},
   "source": [
    "### Distribution of the protein properties in training set 1"
   ]
  },
  {
   "cell_type": "code",
   "execution_count": 9,
   "metadata": {},
   "outputs": [],
   "source": [
    "training_df_1 = df.copy()\n",
    "training_df_1 = training_df_1[training_df_1[\"markers\"]!=\"unknown\"]\n",
    "feature_list=[\"charge\",\"iep\",\"tiny\",\"small\",\"aliphatic\",\"aromatic\",\"nonpolar\",\"polar\",\"charged\",\"basic\",\"acid\",\"coils\",\"disordered\",\"tmh\"]\n",
    "for feature in feature_list:\n",
    "    fig, ax = plt.subplots(figsize=(26,8))\n",
    "    sns.violinplot(data=training_df_1,x=\"markers\",y=feature,inner=None)\n",
    "    ax.tick_params(axis='x',rotation=90)\n",
    "    ax.set_title(feature)\n",
    "    ax.set_xlabel('')\n",
    "    file_name = \"features_1/\"+feature+\".svg\"\n",
    "    plt.savefig(file_name)\n",
    "    #plt.show()\n",
    "    plt.close()"
   ]
  },
  {
   "cell_type": "markdown",
   "metadata": {},
   "source": [
    "|Tiny                                  |Small                                   |                                    |                              |\n",
    "|:------------------------------------:|:--------------------------------------:|:----------------------------------:|:----------------------------:|\n",
    "|![tiny](features_1/tiny.svg)          |![small](features_1/small.svg)          |                                    |                              |\n",
    "|**Aliphatic**                         |**Aromatic**                            |**Charged**                         |                              |\n",
    "|![aliphatic](features_1/aliphatic.svg)|![aromatic](features_1/aromatic.svg)    |![charged](features_1/charged.svg)  |                              |\n",
    "|**Acidic**                            |**Basic**                               |**Nonpolar**                        |**Polar**                     |\n",
    "|![acid](features_1/acid.svg)          |![basic](features_1/basic.svg)          |![nonpolar](features_1/nonpolar.svg)|![polar](features_1/polar.svg)|\n",
    "|**Coils**                             |**Disordered regions**                  |**Transmembrane helices**           |                              |\n",
    "|![coils](features_1/coils.svg)        |![disordered](features_1/disordered.svg)|![tmh](features_1/tmh.svg)          |                              |\n",
    "|**Isoelectric point**                 |**Charge**                              |                                    |                              |\n",
    "|![iep](features_1/iep.svg)            |![charge](features_1/charge.svg)        |                                    |                              |"
   ]
  },
  {
   "cell_type": "code",
   "execution_count": 10,
   "metadata": {},
   "outputs": [],
   "source": [
    "!mkdir -p features_2"
   ]
  },
  {
   "cell_type": "code",
   "execution_count": 11,
   "metadata": {},
   "outputs": [],
   "source": [
    "training_df_2 = df.copy()\n",
    "training_df_2 = training_df_2[training_df_2[\"lopit\"]!=\"unknown\"]\n",
    "feature_list=[\"charge\",\"iep\",\"tiny\",\"small\",\"aliphatic\",\"aromatic\",\"nonpolar\",\"polar\",\"charged\",\"basic\",\"acid\",\"coils\",\"disordered\",\"tmh\"]\n",
    "for feature in feature_list:\n",
    "    fig, ax = plt.subplots(figsize=(26,8))\n",
    "    sns.violinplot(data=training_df_2,x=\"markers\",y=feature,inner=None)\n",
    "    ax.tick_params(axis='x',rotation=90)\n",
    "    ax.set_title(feature)\n",
    "    ax.set_xlabel('')\n",
    "    file_name = \"features_2/\"+feature+\".svg\"\n",
    "    plt.savefig(file_name)\n",
    "    #plt.show()\n",
    "    plt.close()"
   ]
  },
  {
   "cell_type": "markdown",
   "metadata": {},
   "source": [
    "|Tiny                                  |Small                                   |                                    |                              |\n",
    "|:------------------------------------:|:--------------------------------------:|:----------------------------------:|:----------------------------:|\n",
    "|![tiny](features_2/tiny.svg)          |![small](features_2/small.svg)          |                                    |                              |\n",
    "|**Aliphatic**                         |**Aromatic**                            |**Charged**                         |                              |\n",
    "|![aliphatic](features_2/aliphatic.svg)|![aromatic](features_2/aromatic.svg)    |![charged](features_2/charged.svg)  |                              |\n",
    "|**Acidic**                            |**Basic**                               |**Nonpolar**                        |**Polar**                     |\n",
    "|![acid](features_2/acid.svg)          |![basic](features_2/basic.svg)          |![nonpolar](features_2/nonpolar.svg)|![polar](features_2/polar.svg)|\n",
    "|**Coils**                             |**Disordered regions**                  |**Transmembrane helices**           |                              |\n",
    "|![coils](features_2/coils.svg)        |![disordered](features_2/disordered.svg)|![tmh](features_2/tmh.svg)          |                              |\n",
    "|**Isoelectric point**                 |**Charge**                              |                                    |                              |\n",
    "|![iep](features_2/iep.svg)            |![charge](features_2/charge.svg)        |                                    |                              |"
   ]
  },
  {
   "cell_type": "markdown",
   "metadata": {},
   "source": [
    "## Logistic model #2 & #3\n",
    "The constructed models have poor predictive value despite having experimental evidence supporting the initial classification."
   ]
  },
  {
   "cell_type": "code",
   "execution_count": 12,
   "metadata": {},
   "outputs": [
    {
     "name": "stdout",
     "output_type": "stream",
     "text": [
      "                           precision    recall  f1-score   support\n",
      "\n",
      "           19S proteasome       0.36      0.29      0.32        14\n",
      "           20S proteasome       0.64      0.50      0.56        14\n",
      "             40S ribosome       0.37      0.33      0.35        21\n",
      "             60S ribosome       0.71      0.84      0.77        38\n",
      "                       ER       0.50      0.40      0.44        30\n",
      "                     ER 2       0.60      0.33      0.43         9\n",
      "                    Golgi       0.64      0.35      0.45        20\n",
      "                      IMC       0.33      0.37      0.35        38\n",
      "            PM - integral       0.71      0.92      0.80        13\n",
      "        PM - peripheral 1       0.79      0.88      0.84        43\n",
      "        PM - peripheral 2       0.50      0.20      0.29        10\n",
      "                 apical 1       0.48      0.41      0.44        29\n",
      "                 apical 2       0.33      0.08      0.13        12\n",
      "               apicoplast       0.36      0.41      0.38        49\n",
      "                  cytosol       0.41      0.69      0.51        62\n",
      "           dense granules       0.33      0.32      0.32        41\n",
      "    endomembrane vesicles       0.33      0.23      0.27        13\n",
      "               micronemes       0.52      0.45      0.48        29\n",
      "mitochondrion - membranes       0.39      0.39      0.39        36\n",
      "  mitochondrion - soluble       0.39      0.38      0.38        32\n",
      "                nucleolus       0.27      0.20      0.23        15\n",
      "      nucleus - chromatin       0.56      0.64      0.60        39\n",
      "  nucleus - non-chromatin       0.25      0.27      0.26        55\n",
      "              rhoptries 1       0.54      0.45      0.49        33\n",
      "              rhoptries 2       0.83      0.36      0.50        14\n",
      "     tubulin cytoskeleton       0.50      0.11      0.18         9\n",
      "\n",
      "                 accuracy                           0.46       718\n",
      "                macro avg       0.49      0.42      0.43       718\n",
      "             weighted avg       0.47      0.46      0.45       718\n",
      "\n",
      "==============================================================================================================================\n",
      "                           precision    recall  f1-score   support\n",
      "\n",
      "           19S proteasome       0.00      0.00      0.00        14\n",
      "           20S proteasome       0.00      0.00      0.00        14\n",
      "             40S ribosome       1.00      0.19      0.32        21\n",
      "             60S ribosome       0.72      0.87      0.79        38\n",
      "                       ER       0.40      0.63      0.49        30\n",
      "                     ER 2       0.00      0.00      0.00         9\n",
      "                    Golgi       0.17      0.05      0.08        20\n",
      "                      IMC       0.42      0.13      0.20        38\n",
      "            PM - integral       0.48      0.85      0.61        13\n",
      "        PM - peripheral 1       0.91      0.72      0.81        43\n",
      "        PM - peripheral 2       0.00      0.00      0.00        10\n",
      "                 apical 1       1.00      0.03      0.07        29\n",
      "                 apical 2       0.00      0.00      0.00        12\n",
      "               apicoplast       0.38      0.06      0.11        49\n",
      "                  cytosol       0.24      0.87      0.37        62\n",
      "           dense granules       0.31      0.24      0.27        41\n",
      "    endomembrane vesicles       0.00      0.00      0.00        13\n",
      "               micronemes       0.89      0.28      0.42        29\n",
      "mitochondrion - membranes       0.35      0.33      0.34        36\n",
      "  mitochondrion - soluble       0.25      0.44      0.31        32\n",
      "                nucleolus       1.00      0.07      0.12        15\n",
      "      nucleus - chromatin       0.24      0.72      0.35        39\n",
      "  nucleus - non-chromatin       0.34      0.33      0.33        55\n",
      "              rhoptries 1       0.00      0.00      0.00        33\n",
      "              rhoptries 2       1.00      0.07      0.13        14\n",
      "     tubulin cytoskeleton       0.00      0.00      0.00         9\n",
      "\n",
      "                 accuracy                           0.35       718\n",
      "                macro avg       0.39      0.26      0.24       718\n",
      "             weighted avg       0.42      0.35      0.30       718\n",
      "\n",
      "==============================================================================================================================\n",
      "                           precision    recall  f1-score   support\n",
      "\n",
      "           19S proteasome       0.10      0.24      0.14        17\n",
      "           20S proteasome       0.10      0.50      0.17        14\n",
      "             40S ribosome       0.22      0.36      0.27        28\n",
      "             60S ribosome       0.60      0.82      0.69        40\n",
      "                       ER       0.33      0.22      0.27       247\n",
      "                     ER 2       0.16      0.24      0.19        17\n",
      "                    Golgi       0.23      0.09      0.13       153\n",
      "                      IMC       0.17      0.31      0.22        95\n",
      "            PM - integral       0.35      0.23      0.28       135\n",
      "        PM - peripheral 1       0.29      0.80      0.42        49\n",
      "        PM - peripheral 2       0.06      0.05      0.05        44\n",
      "                 apical 1       0.11      0.37      0.17        59\n",
      "                 apical 2       0.07      0.12      0.09        17\n",
      "               apicoplast       0.12      0.29      0.17       168\n",
      "                  cytosol       0.43      0.31      0.36       599\n",
      "           dense granules       0.20      0.18      0.19       191\n",
      "    endomembrane vesicles       0.07      0.12      0.09        34\n",
      "               micronemes       0.20      0.40      0.27        55\n",
      "mitochondrion - membranes       0.28      0.32      0.30       193\n",
      "  mitochondrion - soluble       0.30      0.22      0.25       274\n",
      "                nucleolus       0.08      0.12      0.09        32\n",
      "      nucleus - chromatin       0.54      0.39      0.46       769\n",
      "  nucleus - non-chromatin       0.26      0.19      0.22       461\n",
      "              rhoptries 1       0.20      0.25      0.23        71\n",
      "              rhoptries 2       0.16      0.14      0.15        51\n",
      "     tubulin cytoskeleton       0.09      0.11      0.10         9\n",
      "\n",
      "                 accuracy                           0.28      3822\n",
      "                macro avg       0.22      0.28      0.23      3822\n",
      "             weighted avg       0.33      0.28      0.29      3822\n",
      "\n",
      "==============================================================================================================================\n"
     ]
    },
    {
     "name": "stderr",
     "output_type": "stream",
     "text": [
      "/usr/lib64/python3.6/site-packages/sklearn/metrics/_classification.py:1221: UndefinedMetricWarning: Precision and F-score are ill-defined and being set to 0.0 in labels with no predicted samples. Use `zero_division` parameter to control this behavior.\n",
      "  _warn_prf(average, modifier, msg_start, len(result))\n"
     ]
    },
    {
     "name": "stdout",
     "output_type": "stream",
     "text": [
      "                           precision    recall  f1-score   support\n",
      "\n",
      "           19S proteasome       0.00      0.00      0.00        17\n",
      "           20S proteasome       0.00      0.00      0.00        14\n",
      "             40S ribosome       0.56      0.18      0.27        28\n",
      "             60S ribosome       0.61      0.85      0.71        40\n",
      "                       ER       0.39      0.49      0.43       247\n",
      "                     ER 2       0.00      0.00      0.00        17\n",
      "                    Golgi       0.26      0.09      0.14       153\n",
      "                      IMC       0.18      0.09      0.12        95\n",
      "            PM - integral       0.41      0.34      0.37       135\n",
      "        PM - peripheral 1       0.60      0.65      0.63        49\n",
      "        PM - peripheral 2       0.00      0.00      0.00        44\n",
      "                 apical 1       0.25      0.05      0.08        59\n",
      "                 apical 2       0.00      0.00      0.00        17\n",
      "               apicoplast       0.44      0.10      0.16       168\n",
      "                  cytosol       0.38      0.67      0.48       599\n",
      "           dense granules       0.29      0.15      0.20       191\n",
      "    endomembrane vesicles       0.00      0.00      0.00        34\n",
      "               micronemes       0.58      0.25      0.35        55\n",
      "mitochondrion - membranes       0.34      0.30      0.32       193\n",
      "  mitochondrion - soluble       0.33      0.35      0.34       274\n",
      "                nucleolus       0.33      0.03      0.06        32\n",
      "      nucleus - chromatin       0.43      0.63      0.51       769\n",
      "  nucleus - non-chromatin       0.40      0.30      0.34       461\n",
      "              rhoptries 1       0.00      0.00      0.00        71\n",
      "              rhoptries 2       1.00      0.02      0.04        51\n",
      "     tubulin cytoskeleton       0.00      0.00      0.00         9\n",
      "\n",
      "                 accuracy                           0.39      3822\n",
      "                macro avg       0.30      0.21      0.21      3822\n",
      "             weighted avg       0.37      0.39      0.35      3822\n",
      "\n",
      "==============================================================================================================================\n",
      "['cytosol' 'micronemes' 'rhoptries 1' ... 'dense granules'\n",
      " 'dense granules' '20S proteasome']\n"
     ]
    }
   ],
   "source": [
    "feature_list=[\"charge\",\"iep\",\"tiny\",\"small\",\"aliphatic\",\"aromatic\",\"nonpolar\",\"polar\",\"charged\",\"basic\",\"acid\",\"coils\",\"disordered\",\"tmh\"]\n",
    "training_df_1 = df.copy()\n",
    "training_df_1 = training_df_1[training_df_1[\"markers\"]!=\"unknown\"]\n",
    "\n",
    "training_df_2 = df.copy()\n",
    "training_df_2 = training_df_2[training_df_2[\"lopit\"]!=\"unknown\"]\n",
    "\n",
    "testing_df = df.copy()\n",
    "testing_df = testing_df[testing_df[\"lopit\"]==\"unknown\"]\n",
    "\n",
    "X_1 = training_df_1[feature_list]\n",
    "y_1 = training_df_1[\"markers\"]\n",
    "model_1 = LogisticRegression(max_iter=100000)\n",
    "model_1.fit(X_1, y_1)\n",
    "\n",
    "X_2 = training_df_2[feature_list]\n",
    "y_2 = training_df_2[\"lopit\"]\n",
    "model_2 = LogisticRegression(max_iter=100000)\n",
    "model_2.fit(X_2, y_2)\n",
    "\n",
    "X_test_1 = training_df_1[feature_list]\n",
    "y_true_1 = training_df_1[\"markers\"]\n",
    "y_pred_1_1 = model_1.predict(X_test_1)\n",
    "y_pred_1_2 = model_2.predict(X_test_1)\n",
    "\n",
    "X_test_2 = training_df_2[feature_list]\n",
    "y_true_2 = training_df_2[\"lopit\"]\n",
    "y_pred_2_1 = model_1.predict(X_test_2)\n",
    "y_pred_2_2 = model_2.predict(X_test_2)\n",
    "\n",
    "X_test_3 = testing_df[feature_list]\n",
    "y_pred_3_1 = model_1.predict(X_test_3)\n",
    "y_pred_3_2 = model_2.predict(X_test_3)\n",
    "\n",
    "print(classification_report(y_true_1, y_pred_1_1))\n",
    "print(\"=========\"*14)\n",
    "print(classification_report(y_true_1, y_pred_1_2))\n",
    "print(\"=========\"*14)\n",
    "print(classification_report(y_true_2, y_pred_2_1))\n",
    "print(\"=========\"*14)\n",
    "print(classification_report(y_true_2, y_pred_2_2))\n",
    "print(\"=========\"*14)\n",
    "print(y_pred_3_1)"
   ]
  }
 ],
 "metadata": {
  "extensions": {
   "jupyter_dashboards": {
    "activeView": "grid_default",
    "version": 1,
    "views": {
     "grid_default": {
      "cellMargin": 10,
      "defaultCellHeight": 20,
      "maxColumns": 12,
      "name": "grid",
      "type": "grid"
     },
     "report_default": {
      "name": "report",
      "type": "report"
     }
    }
   }
  },
  "kernelspec": {
   "display_name": "Python 3",
   "language": "python",
   "name": "python3"
  },
  "language_info": {
   "codemirror_mode": {
    "name": "ipython",
    "version": 3
   },
   "file_extension": ".py",
   "mimetype": "text/x-python",
   "name": "python",
   "nbconvert_exporter": "python",
   "pygments_lexer": "ipython3",
   "version": "3.6.13"
  }
 },
 "nbformat": 4,
 "nbformat_minor": 4
}
